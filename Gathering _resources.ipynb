{
 "cells": [
  {
   "cell_type": "markdown",
   "source": [
    "# Web Scrapping using BeautifulSoup"
   ],
   "metadata": {
    "collapsed": false
   }
  },
  {
   "cell_type": "code",
   "execution_count": 1,
   "metadata": {
    "collapsed": true
   },
   "outputs": [],
   "source": [
    "import requests\n",
    "from bs4 import BeautifulSoup"
   ]
  },
  {
   "cell_type": "markdown",
   "source": [
    "## Lets get all the options from Market"
   ],
   "metadata": {
    "collapsed": false
   }
  },
  {
   "cell_type": "code",
   "execution_count": 3,
   "outputs": [
    {
     "name": "stdout",
     "output_type": "stream",
     "text": [
      "<Response [200]>\n"
     ]
    }
   ],
   "source": [
    "url = \"https://agmarknet.gov.in/SearchCmmMkt.aspx?Tx_Commodity=78&Tx_State=MH&Tx_District=14&Tx_Market=1456&DateFrom=21-Jan-2023&DateTo=21-Jan-2023&Fr_Date=21-Jan-2023&To_Date=21-Jan-2023&Tx_Trend=0&Tx_CommodityHead=Tomato&Tx_StateHead=Maharashtra&Tx_DistrictHead=Pune&Tx_MarketHead=Nira\"\n",
    "\n",
    "page = requests.get(url ,  headers={\"User-Agent\": \"XY\",\"Accept\":\"text/html\"})\n",
    "print(page)"
   ],
   "metadata": {
    "collapsed": false
   }
  },
  {
   "cell_type": "markdown",
   "source": [
    "## This shows that the website is completely functional and we can proceed further"
   ],
   "metadata": {
    "collapsed": false
   }
  },
  {
   "cell_type": "code",
   "execution_count": 4,
   "outputs": [],
   "source": [
    "soup = BeautifulSoup(page.text , 'lxml')\n",
    "\n",
    "options = soup.find(\"select\", attrs={\"name\":\"ctl00$ddlMarket\"}).findAll(\"option\")\n",
    "\n",
    "# If you want to view the options just remove # from next line\n",
    "\n",
    "#  print(options)\n"
   ],
   "metadata": {
    "collapsed": false
   }
  },
  {
   "cell_type": "markdown",
   "source": [
    "## We have got all the functions but this is in raw format."
   ],
   "metadata": {
    "collapsed": false
   }
  },
  {
   "cell_type": "markdown",
   "source": [
    "### -> Now let's set the starting date and the ending date from where we want the data"
   ],
   "metadata": {
    "collapsed": false
   }
  },
  {
   "cell_type": "code",
   "execution_count": 16,
   "outputs": [],
   "source": [
    "Date_from='20-Oct-2021'\n",
    "Date_to='21-Oct-2021'"
   ],
   "metadata": {
    "collapsed": false
   }
  },
  {
   "cell_type": "code",
   "execution_count": 17,
   "outputs": [],
   "source": [
    "urls=[]\n",
    "for i in options:\n",
    "  market = i.text\n",
    "  code = i[\"value\"]\n",
    "  urls.append(\n",
    "    'https://agmarknet.gov.in/SearchCmmMkt.aspx?Tx_Commodity=78&Tx_State=MH&Tx_District=14&Tx_Market='+code+'&DateFrom='+Date_from+'&DateTo='+Date_to+'&Fr_Date='+Date_from+'&To_Date='+Date_to+'&Tx_Trend=0&Tx_CommodityHead=Tomato&Tx_StateHead=Maharashtra&Tx_DistrictHead=Pune&Tx_MarketHead='+market\n",
    "  )"
   ],
   "metadata": {
    "collapsed": false
   }
  },
  {
   "cell_type": "markdown",
   "source": [
    "### -> Now we have created a list of all the URLs\n",
    "#### -> Now let's check its validity"
   ],
   "metadata": {
    "collapsed": false
   }
  },
  {
   "cell_type": "code",
   "execution_count": 18,
   "outputs": [],
   "source": [
    "for i in urls[1:]:\n",
    "  url = f'{i}'\n",
    "  page = requests.get(url)\n",
    "  status=str(page)\n",
    "  link_status = open(\"urls_with_response_code.txt\", \"a\")\n",
    "  link_status.write(url+\"\\n\")\n",
    "  link_status.write(status+\"\\n\")\n",
    "  link_status.close()"
   ],
   "metadata": {
    "collapsed": false
   }
  },
  {
   "cell_type": "markdown",
   "source": [
    "### Here we have have created a file which contains all the URLs with their response code\n",
    "#### * response code = 200 (Good)\n",
    "#### * response code != 200 (Bad)"
   ],
   "metadata": {
    "collapsed": false
   }
  },
  {
   "cell_type": "markdown",
   "source": [
    "## Now lets create a list of urls"
   ],
   "metadata": {
    "collapsed": false
   }
  },
  {
   "cell_type": "code",
   "execution_count": 19,
   "outputs": [],
   "source": [
    "for i in urls[1:]:\n",
    "  url=f'{i}'\n",
    "  link=open(\"urls.txt\", \"a\")\n",
    "  link.write(url+\"\\n\")\n",
    "  link.close()"
   ],
   "metadata": {
    "collapsed": false
   }
  }
 ],
 "metadata": {
  "kernelspec": {
   "display_name": "Python 3",
   "language": "python",
   "name": "python3"
  },
  "language_info": {
   "codemirror_mode": {
    "name": "ipython",
    "version": 2
   },
   "file_extension": ".py",
   "mimetype": "text/x-python",
   "name": "python",
   "nbconvert_exporter": "python",
   "pygments_lexer": "ipython2",
   "version": "2.7.6"
  }
 },
 "nbformat": 4,
 "nbformat_minor": 0
}
