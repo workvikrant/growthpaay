{
 "cells": [
  {
   "cell_type": "code",
   "execution_count": 1,
   "metadata": {
    "collapsed": true
   },
   "outputs": [],
   "source": [
    "import requests\n",
    "from bs4 import BeautifulSoup"
   ]
  },
  {
   "cell_type": "code",
   "execution_count": 73,
   "outputs": [],
   "source": [
    "url = \"https://agmarknet.gov.in/SearchCmmMkt.aspx?Tx_Commodity=78&Tx_State=MH&Tx_District=14&Tx_Market=1456&DateFrom=21-Jan-2023&DateTo=21-Jan-2023&Fr_Date=21-Jan-2023&To_Date=21-Jan-2023&Tx_Trend=0&Tx_CommodityHead=Tomato&Tx_StateHead=Maharashtra&Tx_DistrictHead=Pune&Tx_MarketHead=Nira\""
   ],
   "metadata": {
    "collapsed": false
   }
  },
  {
   "cell_type": "code",
   "execution_count": 74,
   "outputs": [
    {
     "name": "stdout",
     "output_type": "stream",
     "text": [
      "<Response [200]>\n"
     ]
    }
   ],
   "source": [
    "page = requests.get(url ,  headers={\"User-Agent\": \"XY\",\"Accept\":\"text/html\"})\n",
    "print(page)\n"
   ],
   "metadata": {
    "collapsed": false
   }
  },
  {
   "cell_type": "code",
   "execution_count": 21,
   "outputs": [],
   "source": [
    "soup = BeautifulSoup(page.text , 'lxml')\n"
   ],
   "metadata": {
    "collapsed": false
   }
  },
  {
   "cell_type": "code",
   "execution_count": 70,
   "outputs": [],
   "source": [
    "options = soup.find(\"select\", attrs={\"name\":\"ctl00$ddlMarket\"}).findAll(\"option\")\n",
    "\n",
    "# If you want to view the options just remove # from next line\n",
    "\n",
    "#  print(options)\n"
   ],
   "metadata": {
    "collapsed": false
   }
  },
  {
   "cell_type": "code",
   "execution_count": 75,
   "outputs": [],
   "source": [
    "lisst=[]\n",
    "for i in options:\n",
    "  market = i.text\n",
    "  code = i[\"value\"]\n",
    "  lisst.append(\n",
    "    'https://agmarknet.gov.in/SearchCmmMkt.aspx?Tx_Commodity=78&Tx_State=MH&Tx_District=14&Tx_Market='+code+'&DateFrom=21-Jan-2023&DateTo=21-Jan-2023&Fr_Date=21-Jan-2023&To_Date=21-Jan-2023&Tx_Trend=0&Tx_CommodityHead=Tomato&Tx_StateHead=Maharashtra&Tx_DistrictHead=Pune&Tx_MarketHead='+market\n",
    "  )"
   ],
   "metadata": {
    "collapsed": false
   }
  },
  {
   "cell_type": "code",
   "execution_count": 76,
   "outputs": [
    {
     "data": {
      "text/plain": "['https://agmarknet.gov.in/SearchCmmMkt.aspx?Tx_Commodity=78&Tx_State=MH&Tx_District=14&Tx_Market=576&DateFrom=21-Jan-2023&DateTo=21-Jan-2023&Fr_Date=21-Jan-2023&To_Date=21-Jan-2023&Tx_Trend=0&Tx_CommodityHead=Tomato&Tx_StateHead=Maharashtra&Tx_DistrictHead=Pune&Tx_MarketHead=Baramati',\n 'https://agmarknet.gov.in/SearchCmmMkt.aspx?Tx_Commodity=78&Tx_State=MH&Tx_District=14&Tx_Market=2077&DateFrom=21-Jan-2023&DateTo=21-Jan-2023&Fr_Date=21-Jan-2023&To_Date=21-Jan-2023&Tx_Trend=0&Tx_CommodityHead=Tomato&Tx_StateHead=Maharashtra&Tx_DistrictHead=Pune&Tx_MarketHead=Bhor',\n 'https://agmarknet.gov.in/SearchCmmMkt.aspx?Tx_Commodity=78&Tx_State=MH&Tx_District=14&Tx_Market=1454&DateFrom=21-Jan-2023&DateTo=21-Jan-2023&Fr_Date=21-Jan-2023&To_Date=21-Jan-2023&Tx_Trend=0&Tx_CommodityHead=Tomato&Tx_StateHead=Maharashtra&Tx_DistrictHead=Pune&Tx_MarketHead=Dound',\n 'https://agmarknet.gov.in/SearchCmmMkt.aspx?Tx_Commodity=78&Tx_State=MH&Tx_District=14&Tx_Market=1171&DateFrom=21-Jan-2023&DateTo=21-Jan-2023&Fr_Date=21-Jan-2023&To_Date=21-Jan-2023&Tx_Trend=0&Tx_CommodityHead=Tomato&Tx_StateHead=Maharashtra&Tx_DistrictHead=Pune&Tx_MarketHead=Indapur',\n 'https://agmarknet.gov.in/SearchCmmMkt.aspx?Tx_Commodity=78&Tx_State=MH&Tx_District=14&Tx_Market=2491&DateFrom=21-Jan-2023&DateTo=21-Jan-2023&Fr_Date=21-Jan-2023&To_Date=21-Jan-2023&Tx_Trend=0&Tx_CommodityHead=Tomato&Tx_StateHead=Maharashtra&Tx_DistrictHead=Pune&Tx_MarketHead=Indapur(Bhigwan)',\n 'https://agmarknet.gov.in/SearchCmmMkt.aspx?Tx_Commodity=78&Tx_State=MH&Tx_District=14&Tx_Market=3964&DateFrom=21-Jan-2023&DateTo=21-Jan-2023&Fr_Date=21-Jan-2023&To_Date=21-Jan-2023&Tx_Trend=0&Tx_CommodityHead=Tomato&Tx_StateHead=Maharashtra&Tx_DistrictHead=Pune&Tx_MarketHead=Indapur(Nimgaon Ketki)',\n 'https://agmarknet.gov.in/SearchCmmMkt.aspx?Tx_Commodity=78&Tx_State=MH&Tx_District=14&Tx_Market=1455&DateFrom=21-Jan-2023&DateTo=21-Jan-2023&Fr_Date=21-Jan-2023&To_Date=21-Jan-2023&Tx_Trend=0&Tx_CommodityHead=Tomato&Tx_StateHead=Maharashtra&Tx_DistrictHead=Pune&Tx_MarketHead=Junnar',\n 'https://agmarknet.gov.in/SearchCmmMkt.aspx?Tx_Commodity=78&Tx_State=MH&Tx_District=14&Tx_Market=3958&DateFrom=21-Jan-2023&DateTo=21-Jan-2023&Fr_Date=21-Jan-2023&To_Date=21-Jan-2023&Tx_Trend=0&Tx_CommodityHead=Tomato&Tx_StateHead=Maharashtra&Tx_DistrictHead=Pune&Tx_MarketHead=Junnar(Alephata)',\n 'https://agmarknet.gov.in/SearchCmmMkt.aspx?Tx_Commodity=78&Tx_State=MH&Tx_District=14&Tx_Market=3959&DateFrom=21-Jan-2023&DateTo=21-Jan-2023&Fr_Date=21-Jan-2023&To_Date=21-Jan-2023&Tx_Trend=0&Tx_CommodityHead=Tomato&Tx_StateHead=Maharashtra&Tx_DistrictHead=Pune&Tx_MarketHead=Junnar(Bhlhe)',\n 'https://agmarknet.gov.in/SearchCmmMkt.aspx?Tx_Commodity=78&Tx_State=MH&Tx_District=14&Tx_Market=3960&DateFrom=21-Jan-2023&DateTo=21-Jan-2023&Fr_Date=21-Jan-2023&To_Date=21-Jan-2023&Tx_Trend=0&Tx_CommodityHead=Tomato&Tx_StateHead=Maharashtra&Tx_DistrictHead=Pune&Tx_MarketHead=Junnar(Narayangaon)',\n 'https://agmarknet.gov.in/SearchCmmMkt.aspx?Tx_Commodity=78&Tx_State=MH&Tx_District=14&Tx_Market=2492&DateFrom=21-Jan-2023&DateTo=21-Jan-2023&Fr_Date=21-Jan-2023&To_Date=21-Jan-2023&Tx_Trend=0&Tx_CommodityHead=Tomato&Tx_StateHead=Maharashtra&Tx_DistrictHead=Pune&Tx_MarketHead=Junnar(Otur)',\n 'https://agmarknet.gov.in/SearchCmmMkt.aspx?Tx_Commodity=78&Tx_State=MH&Tx_District=14&Tx_Market=173&DateFrom=21-Jan-2023&DateTo=21-Jan-2023&Fr_Date=21-Jan-2023&To_Date=21-Jan-2023&Tx_Trend=0&Tx_CommodityHead=Tomato&Tx_StateHead=Maharashtra&Tx_DistrictHead=Pune&Tx_MarketHead=Khed',\n 'https://agmarknet.gov.in/SearchCmmMkt.aspx?Tx_Commodity=78&Tx_State=MH&Tx_District=14&Tx_Market=2493&DateFrom=21-Jan-2023&DateTo=21-Jan-2023&Fr_Date=21-Jan-2023&To_Date=21-Jan-2023&Tx_Trend=0&Tx_CommodityHead=Tomato&Tx_StateHead=Maharashtra&Tx_DistrictHead=Pune&Tx_MarketHead=Khed(Chakan)',\n 'https://agmarknet.gov.in/SearchCmmMkt.aspx?Tx_Commodity=78&Tx_State=MH&Tx_District=14&Tx_Market=4753&DateFrom=21-Jan-2023&DateTo=21-Jan-2023&Fr_Date=21-Jan-2023&To_Date=21-Jan-2023&Tx_Trend=0&Tx_CommodityHead=Tomato&Tx_StateHead=Maharashtra&Tx_DistrictHead=Pune&Tx_MarketHead=Khed(Shel Pimpalgaon)',\n 'https://agmarknet.gov.in/SearchCmmMkt.aspx?Tx_Commodity=78&Tx_State=MH&Tx_District=14&Tx_Market=577&DateFrom=21-Jan-2023&DateTo=21-Jan-2023&Fr_Date=21-Jan-2023&To_Date=21-Jan-2023&Tx_Trend=0&Tx_CommodityHead=Tomato&Tx_StateHead=Maharashtra&Tx_DistrictHead=Pune&Tx_MarketHead=Maanachar',\n 'https://agmarknet.gov.in/SearchCmmMkt.aspx?Tx_Commodity=78&Tx_State=MH&Tx_District=14&Tx_Market=2385&DateFrom=21-Jan-2023&DateTo=21-Jan-2023&Fr_Date=21-Jan-2023&To_Date=21-Jan-2023&Tx_Trend=0&Tx_CommodityHead=Tomato&Tx_StateHead=Maharashtra&Tx_DistrictHead=Pune&Tx_MarketHead=Mulshi',\n 'https://agmarknet.gov.in/SearchCmmMkt.aspx?Tx_Commodity=78&Tx_State=MH&Tx_District=14&Tx_Market=1456&DateFrom=21-Jan-2023&DateTo=21-Jan-2023&Fr_Date=21-Jan-2023&To_Date=21-Jan-2023&Tx_Trend=0&Tx_CommodityHead=Tomato&Tx_StateHead=Maharashtra&Tx_DistrictHead=Pune&Tx_MarketHead=Nira',\n 'https://agmarknet.gov.in/SearchCmmMkt.aspx?Tx_Commodity=78&Tx_State=MH&Tx_District=14&Tx_Market=3113&DateFrom=21-Jan-2023&DateTo=21-Jan-2023&Fr_Date=21-Jan-2023&To_Date=21-Jan-2023&Tx_Trend=0&Tx_CommodityHead=Tomato&Tx_StateHead=Maharashtra&Tx_DistrictHead=Pune&Tx_MarketHead=Nira(Saswad)',\n 'https://agmarknet.gov.in/SearchCmmMkt.aspx?Tx_Commodity=78&Tx_State=MH&Tx_District=14&Tx_Market=172&DateFrom=21-Jan-2023&DateTo=21-Jan-2023&Fr_Date=21-Jan-2023&To_Date=21-Jan-2023&Tx_Trend=0&Tx_CommodityHead=Tomato&Tx_StateHead=Maharashtra&Tx_DistrictHead=Pune&Tx_MarketHead=Pune',\n 'https://agmarknet.gov.in/SearchCmmMkt.aspx?Tx_Commodity=78&Tx_State=MH&Tx_District=14&Tx_Market=3110&DateFrom=21-Jan-2023&DateTo=21-Jan-2023&Fr_Date=21-Jan-2023&To_Date=21-Jan-2023&Tx_Trend=0&Tx_CommodityHead=Tomato&Tx_StateHead=Maharashtra&Tx_DistrictHead=Pune&Tx_MarketHead=Pune(Hadapsar)',\n 'https://agmarknet.gov.in/SearchCmmMkt.aspx?Tx_Commodity=78&Tx_State=MH&Tx_District=14&Tx_Market=2495&DateFrom=21-Jan-2023&DateTo=21-Jan-2023&Fr_Date=21-Jan-2023&To_Date=21-Jan-2023&Tx_Trend=0&Tx_CommodityHead=Tomato&Tx_StateHead=Maharashtra&Tx_DistrictHead=Pune&Tx_MarketHead=Pune(Khadiki)',\n 'https://agmarknet.gov.in/SearchCmmMkt.aspx?Tx_Commodity=78&Tx_State=MH&Tx_District=14&Tx_Market=4751&DateFrom=21-Jan-2023&DateTo=21-Jan-2023&Fr_Date=21-Jan-2023&To_Date=21-Jan-2023&Tx_Trend=0&Tx_CommodityHead=Tomato&Tx_StateHead=Maharashtra&Tx_DistrictHead=Pune&Tx_MarketHead=Pune(Manjri)',\n 'https://agmarknet.gov.in/SearchCmmMkt.aspx?Tx_Commodity=78&Tx_State=MH&Tx_District=14&Tx_Market=4752&DateFrom=21-Jan-2023&DateTo=21-Jan-2023&Fr_Date=21-Jan-2023&To_Date=21-Jan-2023&Tx_Trend=0&Tx_CommodityHead=Tomato&Tx_StateHead=Maharashtra&Tx_DistrictHead=Pune&Tx_MarketHead=Pune(Moshi)',\n 'https://agmarknet.gov.in/SearchCmmMkt.aspx?Tx_Commodity=78&Tx_State=MH&Tx_District=14&Tx_Market=2494&DateFrom=21-Jan-2023&DateTo=21-Jan-2023&Fr_Date=21-Jan-2023&To_Date=21-Jan-2023&Tx_Trend=0&Tx_CommodityHead=Tomato&Tx_StateHead=Maharashtra&Tx_DistrictHead=Pune&Tx_MarketHead=Pune(Pimpri)',\n 'https://agmarknet.gov.in/SearchCmmMkt.aspx?Tx_Commodity=78&Tx_State=MH&Tx_District=14&Tx_Market=1827&DateFrom=21-Jan-2023&DateTo=21-Jan-2023&Fr_Date=21-Jan-2023&To_Date=21-Jan-2023&Tx_Trend=0&Tx_CommodityHead=Tomato&Tx_StateHead=Maharashtra&Tx_DistrictHead=Pune&Tx_MarketHead=Shirur',\n 'https://agmarknet.gov.in/SearchCmmMkt.aspx?Tx_Commodity=78&Tx_State=MH&Tx_District=14&Tx_Market=2078&DateFrom=21-Jan-2023&DateTo=21-Jan-2023&Fr_Date=21-Jan-2023&To_Date=21-Jan-2023&Tx_Trend=0&Tx_CommodityHead=Tomato&Tx_StateHead=Maharashtra&Tx_DistrictHead=Pune&Tx_MarketHead=Talegaon Dabhade']"
     },
     "execution_count": 76,
     "metadata": {},
     "output_type": "execute_result"
    }
   ],
   "source": [
    "lisst[1:]"
   ],
   "metadata": {
    "collapsed": false
   }
  },
  {
   "cell_type": "code",
   "execution_count": 77,
   "outputs": [
    {
     "name": "stdout",
     "output_type": "stream",
     "text": [
      "<Response [200]>\n",
      "<Response [200]>\n",
      "<Response [200]>\n",
      "<Response [200]>\n",
      "<Response [200]>\n",
      "<Response [200]>\n",
      "<Response [200]>\n",
      "<Response [200]>\n",
      "<Response [200]>\n",
      "<Response [200]>\n",
      "<Response [200]>\n",
      "<Response [200]>\n",
      "<Response [200]>\n",
      "<Response [200]>\n",
      "<Response [200]>\n",
      "<Response [200]>\n",
      "<Response [200]>\n",
      "<Response [200]>\n",
      "<Response [200]>\n",
      "<Response [200]>\n",
      "<Response [200]>\n",
      "<Response [200]>\n",
      "<Response [200]>\n",
      "<Response [200]>\n",
      "<Response [200]>\n",
      "<Response [200]>\n",
      "<Response [200]>\n"
     ]
    }
   ],
   "source": [
    "for i in lisst:\n",
    "  url = f'{i}'\n",
    "  page = requests.get(url)\n",
    "  print(page)"
   ],
   "metadata": {
    "collapsed": false
   }
  }
 ],
 "metadata": {
  "kernelspec": {
   "display_name": "Python 3",
   "language": "python",
   "name": "python3"
  },
  "language_info": {
   "codemirror_mode": {
    "name": "ipython",
    "version": 2
   },
   "file_extension": ".py",
   "mimetype": "text/x-python",
   "name": "python",
   "nbconvert_exporter": "python",
   "pygments_lexer": "ipython2",
   "version": "2.7.6"
  }
 },
 "nbformat": 4,
 "nbformat_minor": 0
}
